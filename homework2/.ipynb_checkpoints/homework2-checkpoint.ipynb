{
 "cells": [
  {
   "cell_type": "markdown",
   "metadata": {},
   "source": [
    "# Homework 2\n",
    "\n",
    "The goal of this assignment was to predict the market rate for apartments' rent based on 2014 Census data (https://www.census.gov/housing/nychvs/data/2014/userinfo2.html).\n",
    "\n",
    "This is an updated version of the original submission."
   ]
  },
  {
   "cell_type": "markdown",
   "metadata": {},
   "source": [
    "### Import Libraries, Load Data"
   ]
  },
  {
   "cell_type": "code",
   "execution_count": 1,
   "metadata": {
    "collapsed": false,
    "deletable": true,
    "editable": true
   },
   "outputs": [],
   "source": [
    "import urllib.request\n",
    "import numpy as np\n",
    "import pandas as pd\n",
    "from sklearn.model_selection import train_test_split, GridSearchCV\n",
    "from sklearn.pipeline import make_pipeline\n",
    "from sklearn.neighbors import KNeighborsClassifier, KNeighborsRegressor\n",
    "from sklearn.preprocessing import StandardScaler, OneHotEncoder, LabelEncoder, PolynomialFeatures\n",
    "from sklearn.linear_model import Lasso, Ridge, LinearRegression, LassoCV, RidgeCV\n",
    "import matplotlib.pyplot as plt\n",
    "%matplotlib inline"
   ]
  },
  {
   "cell_type": "code",
   "execution_count": 2,
   "metadata": {
    "collapsed": false,
    "deletable": true,
    "editable": true
   },
   "outputs": [],
   "source": [
    "url = 'https://ndownloader.figshare.com/files/7586326'\n",
    "response = urllib.request.urlopen(url)\n",
    "lines = response.readlines()\n",
    "data = pd.DataFrame(np.genfromtxt(lines, delimiter=\",\", names=True, dtype=None))"
   ]
  },
  {
   "cell_type": "markdown",
   "metadata": {},
   "source": [
    "### Prepare Data"
   ]
  },
  {
   "cell_type": "markdown",
   "metadata": {},
   "source": [
    "##### Data Cleaning"
   ]
  },
  {
   "cell_type": "markdown",
   "metadata": {},
   "source": [
    "Column 'uf17' is the response variable (rent). First, we remove any rows in which the response variable is unknown (encoded as 99999). Then, we set y to be this column."
   ]
  },
  {
   "cell_type": "code",
   "execution_count": 3,
   "metadata": {
    "collapsed": false
   },
   "outputs": [],
   "source": [
    "data = data.loc[data['uf17'] != 99999]"
   ]
  },
  {
   "cell_type": "code",
   "execution_count": 4,
   "metadata": {
    "collapsed": false,
    "deletable": true,
    "editable": true
   },
   "outputs": [],
   "source": [
    "y = pd.DataFrame(data)['uf17']"
   ]
  },
  {
   "cell_type": "markdown",
   "metadata": {},
   "source": [
    "Next, we remove a number of features that are too specific to the current tenant, or are leaky."
   ]
  },
  {
   "cell_type": "code",
   "execution_count": 5,
   "metadata": {
    "collapsed": true
   },
   "outputs": [],
   "source": [
    "drop_cols = ['recid', 'hhr2', 'uf43', 'hhr5', 'race1', 'uf2a', 'uf2b', 'sc51', 'sc52', 'sc53', 'sc54', 'sc110', \n",
    "             'sc111', 'sc112', 'sc113', 'sc117', 'sc140', 'sc184', 'sc542', 'sc543', 'sc544', 'sc548', 'sc549', \n",
    "             'sc550', 'sc551', 'sc570', 'sc574', 'sc560', 'uf53', 'uf54', 'new_csr', 'rec1', 'uf46', 'rec4', \n",
    "             'rec_race_a', 'rec_race_c', 'tot_per', 'rec28', 'rec39', 'uf42', 'uf42a', 'uf34', 'uf34a', 'uf35', \n",
    "             'uf35a', 'uf36', 'uf36a', 'uf37', 'uf37a', 'uf38', 'uf38a', 'uf39', 'uf39a', 'uf40', 'uf40a', 'uf30', \n",
    "             'uf29', 'rec8', 'rec7', 'fw', 'chufw', 'flg_sx1', 'flg_ag1', 'flg_hs1', 'flg_rc1', 'hflag2', 'hflag1', \n",
    "             'hflag18', 'uf52h_h', 'uf52h_a', 'uf52h_b', 'uf52h_c', 'uf52h_d', 'uf52h_e', 'uf52h_f', 'uf52h_g', \n",
    "             'sc115', 'sc116', 'uf5', 'sc125', 'sc143', 'sc174', 'uf64', 'uf17', 'uf17a', 'sc181', 'sc541', 'sc27', \n",
    "             'sc152', 'sc153', 'sc155', 'sc156', 'uf26', 'uf28', 'uf27', 'seqno', 'hflag13', 'hflag6', 'hflag3', \n",
    "             'hflag14', 'hflag16', 'hflag7', 'hflag9', 'hflag10', 'hflag91', 'hflag11', 'hflag12', 'hflag4', 'uf6', \n",
    "             'uf7']"
   ]
  },
  {
   "cell_type": "code",
   "execution_count": 6,
   "metadata": {
    "collapsed": true
   },
   "outputs": [],
   "source": [
    "data = data.drop(drop_cols, axis=1)"
   ]
  },
  {
   "cell_type": "code",
   "execution_count": 7,
   "metadata": {
    "collapsed": false
   },
   "outputs": [
    {
     "data": {
      "text/html": [
       "<div>\n",
       "<table border=\"1\" class=\"dataframe\">\n",
       "  <thead>\n",
       "    <tr style=\"text-align: right;\">\n",
       "      <th></th>\n",
       "      <th>boro</th>\n",
       "      <th>uf1_1</th>\n",
       "      <th>uf1_2</th>\n",
       "      <th>uf1_3</th>\n",
       "      <th>uf1_4</th>\n",
       "      <th>uf1_5</th>\n",
       "      <th>uf1_6</th>\n",
       "      <th>uf1_7</th>\n",
       "      <th>uf1_8</th>\n",
       "      <th>uf1_9</th>\n",
       "      <th>...</th>\n",
       "      <th>uf19</th>\n",
       "      <th>rec15</th>\n",
       "      <th>sc26</th>\n",
       "      <th>uf23</th>\n",
       "      <th>rec21</th>\n",
       "      <th>rec62</th>\n",
       "      <th>rec64</th>\n",
       "      <th>rec54</th>\n",
       "      <th>rec53</th>\n",
       "      <th>cd</th>\n",
       "    </tr>\n",
       "  </thead>\n",
       "  <tbody>\n",
       "    <tr>\n",
       "      <th>3</th>\n",
       "      <td>1</td>\n",
       "      <td>9</td>\n",
       "      <td>9</td>\n",
       "      <td>9</td>\n",
       "      <td>9</td>\n",
       "      <td>1</td>\n",
       "      <td>9</td>\n",
       "      <td>9</td>\n",
       "      <td>9</td>\n",
       "      <td>9</td>\n",
       "      <td>...</td>\n",
       "      <td>2</td>\n",
       "      <td>13</td>\n",
       "      <td>16</td>\n",
       "      <td>2</td>\n",
       "      <td>1</td>\n",
       "      <td>1</td>\n",
       "      <td>1</td>\n",
       "      <td>1</td>\n",
       "      <td>1</td>\n",
       "      <td>1</td>\n",
       "    </tr>\n",
       "    <tr>\n",
       "      <th>5</th>\n",
       "      <td>1</td>\n",
       "      <td>9</td>\n",
       "      <td>9</td>\n",
       "      <td>9</td>\n",
       "      <td>9</td>\n",
       "      <td>1</td>\n",
       "      <td>9</td>\n",
       "      <td>9</td>\n",
       "      <td>9</td>\n",
       "      <td>9</td>\n",
       "      <td>...</td>\n",
       "      <td>2</td>\n",
       "      <td>3</td>\n",
       "      <td>16</td>\n",
       "      <td>8</td>\n",
       "      <td>1</td>\n",
       "      <td>1</td>\n",
       "      <td>1</td>\n",
       "      <td>1</td>\n",
       "      <td>1</td>\n",
       "      <td>1</td>\n",
       "    </tr>\n",
       "    <tr>\n",
       "      <th>10</th>\n",
       "      <td>1</td>\n",
       "      <td>9</td>\n",
       "      <td>9</td>\n",
       "      <td>9</td>\n",
       "      <td>9</td>\n",
       "      <td>1</td>\n",
       "      <td>9</td>\n",
       "      <td>9</td>\n",
       "      <td>9</td>\n",
       "      <td>9</td>\n",
       "      <td>...</td>\n",
       "      <td>2</td>\n",
       "      <td>1</td>\n",
       "      <td>16</td>\n",
       "      <td>9</td>\n",
       "      <td>1</td>\n",
       "      <td>2</td>\n",
       "      <td>2</td>\n",
       "      <td>1</td>\n",
       "      <td>1</td>\n",
       "      <td>1</td>\n",
       "    </tr>\n",
       "    <tr>\n",
       "      <th>11</th>\n",
       "      <td>1</td>\n",
       "      <td>9</td>\n",
       "      <td>9</td>\n",
       "      <td>9</td>\n",
       "      <td>9</td>\n",
       "      <td>1</td>\n",
       "      <td>9</td>\n",
       "      <td>9</td>\n",
       "      <td>9</td>\n",
       "      <td>9</td>\n",
       "      <td>...</td>\n",
       "      <td>2</td>\n",
       "      <td>1</td>\n",
       "      <td>16</td>\n",
       "      <td>9</td>\n",
       "      <td>1</td>\n",
       "      <td>1</td>\n",
       "      <td>1</td>\n",
       "      <td>2</td>\n",
       "      <td>2</td>\n",
       "      <td>1</td>\n",
       "    </tr>\n",
       "    <tr>\n",
       "      <th>14</th>\n",
       "      <td>1</td>\n",
       "      <td>9</td>\n",
       "      <td>9</td>\n",
       "      <td>9</td>\n",
       "      <td>9</td>\n",
       "      <td>1</td>\n",
       "      <td>9</td>\n",
       "      <td>9</td>\n",
       "      <td>9</td>\n",
       "      <td>9</td>\n",
       "      <td>...</td>\n",
       "      <td>2</td>\n",
       "      <td>5</td>\n",
       "      <td>16</td>\n",
       "      <td>7</td>\n",
       "      <td>1</td>\n",
       "      <td>1</td>\n",
       "      <td>1</td>\n",
       "      <td>1</td>\n",
       "      <td>1</td>\n",
       "      <td>1</td>\n",
       "    </tr>\n",
       "  </tbody>\n",
       "</table>\n",
       "<p>5 rows × 87 columns</p>\n",
       "</div>"
      ],
      "text/plain": [
       "    boro  uf1_1  uf1_2  uf1_3  uf1_4  uf1_5  uf1_6  uf1_7  uf1_8  uf1_9 ...  \\\n",
       "3      1      9      9      9      9      1      9      9      9      9 ...   \n",
       "5      1      9      9      9      9      1      9      9      9      9 ...   \n",
       "10     1      9      9      9      9      1      9      9      9      9 ...   \n",
       "11     1      9      9      9      9      1      9      9      9      9 ...   \n",
       "14     1      9      9      9      9      1      9      9      9      9 ...   \n",
       "\n",
       "    uf19  rec15  sc26  uf23  rec21  rec62  rec64  rec54  rec53  cd  \n",
       "3      2     13    16     2      1      1      1      1      1   1  \n",
       "5      2      3    16     8      1      1      1      1      1   1  \n",
       "10     2      1    16     9      1      2      2      1      1   1  \n",
       "11     2      1    16     9      1      1      1      2      2   1  \n",
       "14     2      5    16     7      1      1      1      1      1   1  \n",
       "\n",
       "[5 rows x 87 columns]"
      ]
     },
     "execution_count": 7,
     "metadata": {},
     "output_type": "execute_result"
    }
   ],
   "source": [
    "data.head()"
   ]
  },
  {
   "cell_type": "markdown",
   "metadata": {},
   "source": [
    "Now we look at missing data in each column. The 'na_vals' dictionary contains all values encoding missing data for each feature. Features not appearing in this dictionary do not have such a value.\n",
    "\n",
    "If more than 50% of the column is missing, we remove it from our analysis. Otherwise, we replace the corresponding missing value with NA."
   ]
  },
  {
   "cell_type": "code",
   "execution_count": 8,
   "metadata": {
    "collapsed": true
   },
   "outputs": [],
   "source": [
    "na_vals = {\n",
    "    'uf1_1': [8], \n",
    "    'uf1_2': [8], \n",
    "    'uf1_3': [8], \n",
    "    'uf1_4': [8], \n",
    "    'uf1_5': [8], \n",
    "    'uf1_6': [8], \n",
    "    'uf1_7': [8],\n",
    "    'uf1_8': [8], \n",
    "    'uf1_9': [8], \n",
    "    'uf1_10': [8], \n",
    "    'uf1_11': [8], \n",
    "    'uf1_12': [8], \n",
    "    'uf1_13': [8], \n",
    "    'uf1_14': [8],\n",
    "    'uf1_15': [8], \n",
    "    'uf1_16': [8], \n",
    "    'uf1_35': [8], \n",
    "    'uf1_17': [8], \n",
    "    'uf1_18': [8], \n",
    "    'uf1_19': [8], \n",
    "    'uf1_20': [8],\n",
    "    'uf1_21': [8], \n",
    "    'uf1_22': [8], \n",
    "    'sc23': [8], \n",
    "    'sc24': [8], \n",
    "    'sc36': [8], \n",
    "    'sc37': [8], \n",
    "    'sc38': [8], \n",
    "    'sc114': [4],\n",
    "    'sc118': [3, 8, 9], \n",
    "    'sc120': [9], \n",
    "    'sc121': [9], \n",
    "    'sc127': [9], \n",
    "    'sc134': [9999], \n",
    "    'uf7a': [9999], \n",
    "    'uf9': [99], \n",
    "    'sc141': [9],\n",
    "    'uf8': [9999], \n",
    "    'sc144': [9], \n",
    "    'uf10': [99], \n",
    "    'sc147': [3, 8], \n",
    "    'sc173': [8, 9],\n",
    "    'sc171': [3, 8], \n",
    "    'sc154': [8, 9], \n",
    "    'sc157': [8, 9], \n",
    "    'uf12': [9999],\n",
    "    'uf13': [9999], \n",
    "    'uf14': [9999], \n",
    "    'uf15': [9999], \n",
    "    'uf16': [99999], \n",
    "    'sc197': [4, 8], \n",
    "    'sc198': [8], \n",
    "    'sc187': [8], \n",
    "    'sc188': [8], \n",
    "    'sc571': [5, 8], \n",
    "    'sc189': [5, 8], \n",
    "    'sc190': [8],\n",
    "    'sc191': [8], \n",
    "    'sc192': [8], \n",
    "    'sc193': [8, 9], \n",
    "    'sc194': [8], \n",
    "    'sc196': [8], \n",
    "    'sc199': [8], \n",
    "    'sc575': [8], \n",
    "    'rec15': [8, 10, 12], \n",
    "    'rec21': [8], \n",
    "    'rec54': [7], \n",
    "    'rec53': [7]\n",
    "}"
   ]
  },
  {
   "cell_type": "code",
   "execution_count": 9,
   "metadata": {
    "collapsed": true
   },
   "outputs": [],
   "source": [
    "def replace_remove_missing(data, col_name, na_vals):\n",
    "    column = data[col_name]\n",
    "    print('Column: {}'.format(col_name))\n",
    "    \n",
    "    counts = column.value_counts()\n",
    "    values = na_vals[col_name]\n",
    "    missing_total = 0\n",
    "    for val in values:\n",
    "        if counts[val]:\n",
    "            missing_total += counts[val]\n",
    "    missing = missing_total / len(data)\n",
    "    print('Percent missing: {}'.format(missing*100))\n",
    "    \n",
    "    if missing > 0.5:\n",
    "        data.drop(col_name, axis=1, inplace=True)\n",
    "        print('Column removed')\n",
    "    else:\n",
    "        data[col_name].replace(to_replace=na_vals, value=np.nan, inplace=True)\n",
    "        print('NA values replaced')"
   ]
  },
  {
   "cell_type": "code",
   "execution_count": 10,
   "metadata": {
    "collapsed": false
   },
   "outputs": [
    {
     "name": "stdout",
     "output_type": "stream",
     "text": [
      "Column: sc157\n",
      "Percent missing: 9.531723531136963\n",
      "NA values replaced\n",
      "Column: uf1_16\n",
      "Percent missing: 3.7149281454687655\n",
      "NA values replaced\n",
      "Column: uf1_15\n",
      "Percent missing: 3.7149281454687655\n",
      "NA values replaced\n",
      "Column: uf14\n",
      "Percent missing: 79.47991005963438\n",
      "Column removed\n",
      "Column: uf8\n",
      "Percent missing: 100.0\n",
      "Column removed\n",
      "Column: uf1_20\n",
      "Percent missing: 1.2024635839280478\n",
      "NA values replaced\n",
      "Column: rec53\n",
      "Percent missing: 1.1340306970378335\n",
      "NA values replaced\n",
      "Column: sc127\n",
      "Percent missing: 100.0\n",
      "Column removed\n",
      "Column: uf1_19\n",
      "Percent missing: 1.2024635839280478\n",
      "NA values replaced\n",
      "Column: uf1_14\n",
      "Percent missing: 3.7149281454687655\n",
      "NA values replaced\n",
      "Column: uf1_11\n",
      "Percent missing: 0.7429856290937531\n",
      "NA values replaced\n",
      "Column: uf1_7\n",
      "Percent missing: 0.7429856290937531\n",
      "NA values replaced\n",
      "Column: uf1_4\n",
      "Percent missing: 0.4888063349301007\n",
      "NA values replaced\n",
      "Column: uf1_6\n",
      "Percent missing: 0.4888063349301007\n",
      "NA values replaced\n",
      "Column: uf7a\n",
      "Percent missing: 100.0\n",
      "Column removed\n",
      "Column: uf13\n",
      "Percent missing: 64.11183888943201\n",
      "Column removed\n",
      "Column: sc192\n",
      "Percent missing: 9.883664092286635\n",
      "NA values replaced\n",
      "Column: sc36\n",
      "Percent missing: 0.8602991494769773\n",
      "NA values replaced\n",
      "Column: uf10\n",
      "Percent missing: 100.0\n",
      "Column removed\n",
      "Column: sc190\n",
      "Percent missing: 9.541499657835566\n",
      "NA values replaced\n",
      "Column: sc118\n",
      "Percent missing: 98.78776028937335\n",
      "Column removed\n",
      "Column: sc187\n",
      "Percent missing: 9.85433571219083\n",
      "NA values replaced\n",
      "Column: sc199\n",
      "Percent missing: 7.762244598689999\n",
      "NA values replaced\n",
      "Column: uf9\n",
      "Percent missing: 100.0\n",
      "Column removed\n",
      "Column: rec15\n",
      "Percent missing: 6.50112425457034\n",
      "NA values replaced\n",
      "Column: sc141\n",
      "Percent missing: 100.0\n",
      "Column removed\n",
      "Column: sc134\n",
      "Percent missing: 100.0\n",
      "Column removed\n",
      "Column: uf1_18\n",
      "Percent missing: 1.2024635839280478\n",
      "NA values replaced\n",
      "Column: uf1_35\n",
      "Percent missing: 3.7149281454687655\n",
      "NA values replaced\n",
      "Column: uf1_5\n",
      "Percent missing: 0.4888063349301007\n",
      "NA values replaced\n",
      "Column: rec54\n",
      "Percent missing: 12.308143513539935\n",
      "NA values replaced\n",
      "Column: sc147\n",
      "Percent missing: 13.64747287124841\n",
      "NA values replaced\n",
      "Column: uf1_3\n",
      "Percent missing: 0.4888063349301007\n",
      "NA values replaced\n",
      "Column: sc197\n",
      "Percent missing: 2.316942027568677\n",
      "NA values replaced\n",
      "Column: uf1_10\n",
      "Percent missing: 0.7429856290937531\n",
      "NA values replaced\n",
      "Column: sc23\n",
      "Percent missing: 1.8281356926385766\n",
      "NA values replaced\n",
      "Column: uf1_9\n",
      "Percent missing: 0.7429856290937531\n",
      "NA values replaced\n",
      "Column: sc198\n",
      "Percent missing: 2.4342555479519015\n",
      "NA values replaced\n",
      "Column: sc188\n",
      "Percent missing: 9.580604164629973\n",
      "NA values replaced\n",
      "Column: sc196\n",
      "Percent missing: 9.57082803793137\n",
      "NA values replaced\n",
      "Column: uf1_2\n",
      "Percent missing: 0.4888063349301007\n",
      "NA values replaced\n",
      "Column: sc38\n",
      "Percent missing: 1.427314497995894\n",
      "NA values replaced\n",
      "Column: sc189\n",
      "Percent missing: 19.972626845243916\n",
      "NA values replaced\n",
      "Column: sc191\n",
      "Percent missing: 10.411574934011144\n",
      "NA values replaced\n",
      "Column: sc144\n",
      "Percent missing: 100.0\n",
      "Column removed\n",
      "Column: uf1_22\n",
      "Percent missing: 1.2024635839280478\n",
      "NA values replaced\n",
      "Column: uf1_12\n",
      "Percent missing: 3.7149281454687655\n",
      "NA values replaced\n",
      "Column: sc154\n",
      "Percent missing: 8.358588327304723\n",
      "NA values replaced\n",
      "Column: sc194\n",
      "Percent missing: 9.541499657835566\n",
      "NA values replaced\n",
      "Column: uf1_21\n",
      "Percent missing: 1.2024635839280478\n",
      "NA values replaced\n",
      "Column: uf1_17\n",
      "Percent missing: 1.2024635839280478\n",
      "NA values replaced\n",
      "Column: sc120\n",
      "Percent missing: 100.0\n",
      "Column removed\n",
      "Column: sc173\n",
      "Percent missing: 55.528399648059434\n",
      "Column removed\n",
      "Column: sc114\n",
      "Percent missing: 2.6297780819239414\n",
      "NA values replaced\n",
      "Column: uf12\n",
      "Percent missing: 39.39779059536612\n",
      "NA values replaced\n",
      "Column: sc37\n",
      "Percent missing: 0.9189559096685893\n",
      "NA values replaced\n",
      "Column: sc24\n",
      "Percent missing: 3.3141069508260825\n",
      "NA values replaced\n",
      "Column: sc575\n",
      "Percent missing: 1.9258969596245967\n",
      "NA values replaced\n",
      "Column: uf1_8\n",
      "Percent missing: 0.7429856290937531\n",
      "NA values replaced\n",
      "Column: rec21\n",
      "Percent missing: 1.8281356926385766\n",
      "NA values replaced\n",
      "Column: uf16\n",
      "Percent missing: 99.48186528497409\n",
      "Column removed\n",
      "Column: uf1_1\n",
      "Percent missing: 0.4888063349301007\n",
      "NA values replaced\n",
      "Column: sc171\n",
      "Percent missing: 4.927167856095415\n",
      "NA values replaced\n",
      "Column: uf1_13\n",
      "Percent missing: 3.7149281454687655\n",
      "NA values replaced\n",
      "Column: uf15\n",
      "Percent missing: 98.55313324860691\n",
      "Column removed\n",
      "Column: sc121\n",
      "Percent missing: 100.0\n",
      "Column removed\n",
      "Column: sc193\n",
      "Percent missing: 82.58871834978981\n",
      "Column removed\n",
      "Column: sc571\n",
      "Percent missing: 10.841724508749634\n",
      "NA values replaced\n"
     ]
    }
   ],
   "source": [
    "for col in na_vals.keys():\n",
    "    replace_remove_missing(data, col, na_vals)"
   ]
  },
  {
   "cell_type": "markdown",
   "metadata": {},
   "source": [
    "##### Train-Test Split"
   ]
  },
  {
   "cell_type": "markdown",
   "metadata": {},
   "source": [
    "The next step is to split the X and y dataset into train and test data."
   ]
  },
  {
   "cell_type": "code",
   "execution_count": 11,
   "metadata": {
    "collapsed": false,
    "deletable": true,
    "editable": true
   },
   "outputs": [],
   "source": [
    "X_train, X_test, y_train, y_test = train_test_split(data, y, random_state=42)"
   ]
  },
  {
   "cell_type": "code",
   "execution_count": 12,
   "metadata": {
    "collapsed": false,
    "deletable": true,
    "editable": true
   },
   "outputs": [
    {
     "name": "stdout",
     "output_type": "stream",
     "text": [
      "(7671, 70)\n",
      "(2558, 70)\n",
      "(7671,)\n",
      "(2558,)\n"
     ]
    }
   ],
   "source": [
    "print(X_train.shape)\n",
    "print(X_test.shape)\n",
    "print(y_train.shape)\n",
    "print(y_test.shape)"
   ]
  },
  {
   "cell_type": "code",
   "execution_count": 13,
   "metadata": {
    "collapsed": false
   },
   "outputs": [
    {
     "data": {
      "text/html": [
       "<div>\n",
       "<table border=\"1\" class=\"dataframe\">\n",
       "  <thead>\n",
       "    <tr style=\"text-align: right;\">\n",
       "      <th></th>\n",
       "      <th>boro</th>\n",
       "      <th>uf1_1</th>\n",
       "      <th>uf1_2</th>\n",
       "      <th>uf1_3</th>\n",
       "      <th>uf1_4</th>\n",
       "      <th>uf1_5</th>\n",
       "      <th>uf1_6</th>\n",
       "      <th>uf1_7</th>\n",
       "      <th>uf1_8</th>\n",
       "      <th>uf1_9</th>\n",
       "      <th>...</th>\n",
       "      <th>uf19</th>\n",
       "      <th>rec15</th>\n",
       "      <th>sc26</th>\n",
       "      <th>uf23</th>\n",
       "      <th>rec21</th>\n",
       "      <th>rec62</th>\n",
       "      <th>rec64</th>\n",
       "      <th>rec54</th>\n",
       "      <th>rec53</th>\n",
       "      <th>cd</th>\n",
       "    </tr>\n",
       "  </thead>\n",
       "  <tbody>\n",
       "    <tr>\n",
       "      <th>1460</th>\n",
       "      <td>1</td>\n",
       "      <td>9</td>\n",
       "      <td>9</td>\n",
       "      <td>9</td>\n",
       "      <td>9</td>\n",
       "      <td>1</td>\n",
       "      <td>9</td>\n",
       "      <td>9</td>\n",
       "      <td>9</td>\n",
       "      <td>9</td>\n",
       "      <td>...</td>\n",
       "      <td>2</td>\n",
       "      <td>3</td>\n",
       "      <td>12</td>\n",
       "      <td>6</td>\n",
       "      <td>1</td>\n",
       "      <td>1</td>\n",
       "      <td>1</td>\n",
       "      <td>2</td>\n",
       "      <td>3</td>\n",
       "      <td>7</td>\n",
       "    </tr>\n",
       "    <tr>\n",
       "      <th>6352</th>\n",
       "      <td>2</td>\n",
       "      <td>9</td>\n",
       "      <td>9</td>\n",
       "      <td>9</td>\n",
       "      <td>9</td>\n",
       "      <td>1</td>\n",
       "      <td>9</td>\n",
       "      <td>9</td>\n",
       "      <td>9</td>\n",
       "      <td>9</td>\n",
       "      <td>...</td>\n",
       "      <td>2</td>\n",
       "      <td>3</td>\n",
       "      <td>12</td>\n",
       "      <td>6</td>\n",
       "      <td>1</td>\n",
       "      <td>1</td>\n",
       "      <td>1</td>\n",
       "      <td>7</td>\n",
       "      <td>9</td>\n",
       "      <td>18</td>\n",
       "    </tr>\n",
       "    <tr>\n",
       "      <th>8395</th>\n",
       "      <td>3</td>\n",
       "      <td>9</td>\n",
       "      <td>9</td>\n",
       "      <td>9</td>\n",
       "      <td>9</td>\n",
       "      <td>1</td>\n",
       "      <td>9</td>\n",
       "      <td>9</td>\n",
       "      <td>9</td>\n",
       "      <td>9</td>\n",
       "      <td>...</td>\n",
       "      <td>1</td>\n",
       "      <td>5</td>\n",
       "      <td>16</td>\n",
       "      <td>9</td>\n",
       "      <td>8</td>\n",
       "      <td>1</td>\n",
       "      <td>1</td>\n",
       "      <td>1</td>\n",
       "      <td>1</td>\n",
       "      <td>5</td>\n",
       "    </tr>\n",
       "    <tr>\n",
       "      <th>5214</th>\n",
       "      <td>2</td>\n",
       "      <td>9</td>\n",
       "      <td>9</td>\n",
       "      <td>9</td>\n",
       "      <td>9</td>\n",
       "      <td>1</td>\n",
       "      <td>9</td>\n",
       "      <td>9</td>\n",
       "      <td>9</td>\n",
       "      <td>9</td>\n",
       "      <td>...</td>\n",
       "      <td>1</td>\n",
       "      <td>3</td>\n",
       "      <td>16</td>\n",
       "      <td>7</td>\n",
       "      <td>1</td>\n",
       "      <td>1</td>\n",
       "      <td>1</td>\n",
       "      <td>1</td>\n",
       "      <td>2</td>\n",
       "      <td>14</td>\n",
       "    </tr>\n",
       "    <tr>\n",
       "      <th>12424</th>\n",
       "      <td>4</td>\n",
       "      <td>9</td>\n",
       "      <td>9</td>\n",
       "      <td>9</td>\n",
       "      <td>9</td>\n",
       "      <td>1</td>\n",
       "      <td>9</td>\n",
       "      <td>9</td>\n",
       "      <td>9</td>\n",
       "      <td>9</td>\n",
       "      <td>...</td>\n",
       "      <td>2</td>\n",
       "      <td>13</td>\n",
       "      <td>16</td>\n",
       "      <td>2</td>\n",
       "      <td>1</td>\n",
       "      <td>1</td>\n",
       "      <td>1</td>\n",
       "      <td>1</td>\n",
       "      <td>1</td>\n",
       "      <td>7</td>\n",
       "    </tr>\n",
       "  </tbody>\n",
       "</table>\n",
       "<p>5 rows × 70 columns</p>\n",
       "</div>"
      ],
      "text/plain": [
       "       boro  uf1_1  uf1_2  uf1_3  uf1_4  uf1_5  uf1_6  uf1_7  uf1_8  uf1_9  \\\n",
       "1460      1      9      9      9      9      1      9      9      9      9   \n",
       "6352      2      9      9      9      9      1      9      9      9      9   \n",
       "8395      3      9      9      9      9      1      9      9      9      9   \n",
       "5214      2      9      9      9      9      1      9      9      9      9   \n",
       "12424     4      9      9      9      9      1      9      9      9      9   \n",
       "\n",
       "      ...  uf19  rec15  sc26  uf23  rec21  rec62  rec64  rec54  rec53  cd  \n",
       "1460  ...     2      3    12     6      1      1      1      2      3   7  \n",
       "6352  ...     2      3    12     6      1      1      1      7      9  18  \n",
       "8395  ...     1      5    16     9      8      1      1      1      1   5  \n",
       "5214  ...     1      3    16     7      1      1      1      1      2  14  \n",
       "12424 ...     2     13    16     2      1      1      1      1      1   7  \n",
       "\n",
       "[5 rows x 70 columns]"
      ]
     },
     "execution_count": 13,
     "metadata": {},
     "output_type": "execute_result"
    }
   ],
   "source": [
    "X_train.head()"
   ]
  },
  {
   "cell_type": "markdown",
   "metadata": {},
   "source": [
    "##### Imputation"
   ]
  },
  {
   "cell_type": "markdown",
   "metadata": {},
   "source": [
    "Next, we use K-Nearest Neighbors with the 'boro' variable, for which no rows are missing, to impute missing data."
   ]
  },
  {
   "cell_type": "code",
   "execution_count": 14,
   "metadata": {
    "collapsed": true,
    "deletable": true,
    "editable": true
   },
   "outputs": [],
   "source": [
    "X_train_knn = np.array(X_train)\n",
    "X_test_knn = np.array(X_test)"
   ]
  },
  {
   "cell_type": "code",
   "execution_count": 15,
   "metadata": {
    "collapsed": true
   },
   "outputs": [],
   "source": [
    "def knn_impute(X_train, X_test, column, continuous=False):\n",
    "    missing_train = np.isnan(X_train_knn[:, column])\n",
    "    missing_test = np.isnan(X_test_knn[:, column])\n",
    "    \n",
    "    if continuous:\n",
    "        knn = KNeighborsRegressor()\n",
    "    else:\n",
    "        knn = KNeighborsClassifier()\n",
    "    \n",
    "    if sum(missing_train) > 0:\n",
    "        knn.fit(X_train_knn[~missing_train,0].reshape(-1,1), X_train_knn[~missing_train, column])\n",
    "        X_train_knn[missing_train, column] = knn.predict(X_train_knn[missing_train, 0].reshape(-1,1))\n",
    "    \n",
    "    if sum(missing_test) > 0:\n",
    "        X_test_knn[missing_train, column] = knn.predict(X_test_knn[missing_train, 0].reshape(-1,1))"
   ]
  },
  {
   "cell_type": "code",
   "execution_count": 16,
   "metadata": {
    "collapsed": false,
    "deletable": true,
    "editable": true
   },
   "outputs": [],
   "source": [
    "continuous_cols = ['sc150', 'sc151', 'uf12']"
   ]
  },
  {
   "cell_type": "code",
   "execution_count": 17,
   "metadata": {
    "collapsed": false
   },
   "outputs": [],
   "source": [
    "for col in range(1, X_train_knn.shape[1]):\n",
    "    if X_train.columns[col] in continuous_cols:\n",
    "        knn_impute(X_train, X_test, col, continuous=True)\n",
    "    else:\n",
    "        knn_impute(X_train, X_test, col)"
   ]
  },
  {
   "cell_type": "code",
   "execution_count": 18,
   "metadata": {
    "collapsed": false
   },
   "outputs": [],
   "source": [
    "X_train_knn = pd.DataFrame(X_train_knn, columns=X_train.columns)\n",
    "X_test_knn = pd.DataFrame(X_test_knn, columns=X_test.columns)"
   ]
  },
  {
   "cell_type": "code",
   "execution_count": 19,
   "metadata": {
    "collapsed": false
   },
   "outputs": [
    {
     "data": {
      "text/html": [
       "<div>\n",
       "<table border=\"1\" class=\"dataframe\">\n",
       "  <thead>\n",
       "    <tr style=\"text-align: right;\">\n",
       "      <th></th>\n",
       "      <th>boro</th>\n",
       "      <th>uf1_1</th>\n",
       "      <th>uf1_2</th>\n",
       "      <th>uf1_3</th>\n",
       "      <th>uf1_4</th>\n",
       "      <th>uf1_5</th>\n",
       "      <th>uf1_6</th>\n",
       "      <th>uf1_7</th>\n",
       "      <th>uf1_8</th>\n",
       "      <th>uf1_9</th>\n",
       "      <th>...</th>\n",
       "      <th>uf19</th>\n",
       "      <th>rec15</th>\n",
       "      <th>sc26</th>\n",
       "      <th>uf23</th>\n",
       "      <th>rec21</th>\n",
       "      <th>rec62</th>\n",
       "      <th>rec64</th>\n",
       "      <th>rec54</th>\n",
       "      <th>rec53</th>\n",
       "      <th>cd</th>\n",
       "    </tr>\n",
       "  </thead>\n",
       "  <tbody>\n",
       "    <tr>\n",
       "      <th>0</th>\n",
       "      <td>1</td>\n",
       "      <td>9</td>\n",
       "      <td>9</td>\n",
       "      <td>9</td>\n",
       "      <td>9</td>\n",
       "      <td>1</td>\n",
       "      <td>9</td>\n",
       "      <td>9</td>\n",
       "      <td>9</td>\n",
       "      <td>9</td>\n",
       "      <td>...</td>\n",
       "      <td>2</td>\n",
       "      <td>3</td>\n",
       "      <td>12</td>\n",
       "      <td>6</td>\n",
       "      <td>1</td>\n",
       "      <td>1</td>\n",
       "      <td>1</td>\n",
       "      <td>2</td>\n",
       "      <td>3</td>\n",
       "      <td>7</td>\n",
       "    </tr>\n",
       "    <tr>\n",
       "      <th>1</th>\n",
       "      <td>2</td>\n",
       "      <td>9</td>\n",
       "      <td>9</td>\n",
       "      <td>9</td>\n",
       "      <td>9</td>\n",
       "      <td>1</td>\n",
       "      <td>9</td>\n",
       "      <td>9</td>\n",
       "      <td>9</td>\n",
       "      <td>9</td>\n",
       "      <td>...</td>\n",
       "      <td>2</td>\n",
       "      <td>3</td>\n",
       "      <td>12</td>\n",
       "      <td>6</td>\n",
       "      <td>1</td>\n",
       "      <td>1</td>\n",
       "      <td>1</td>\n",
       "      <td>7</td>\n",
       "      <td>9</td>\n",
       "      <td>18</td>\n",
       "    </tr>\n",
       "    <tr>\n",
       "      <th>2</th>\n",
       "      <td>3</td>\n",
       "      <td>9</td>\n",
       "      <td>9</td>\n",
       "      <td>9</td>\n",
       "      <td>9</td>\n",
       "      <td>1</td>\n",
       "      <td>9</td>\n",
       "      <td>9</td>\n",
       "      <td>9</td>\n",
       "      <td>9</td>\n",
       "      <td>...</td>\n",
       "      <td>1</td>\n",
       "      <td>5</td>\n",
       "      <td>16</td>\n",
       "      <td>9</td>\n",
       "      <td>8</td>\n",
       "      <td>1</td>\n",
       "      <td>1</td>\n",
       "      <td>1</td>\n",
       "      <td>1</td>\n",
       "      <td>5</td>\n",
       "    </tr>\n",
       "    <tr>\n",
       "      <th>3</th>\n",
       "      <td>2</td>\n",
       "      <td>9</td>\n",
       "      <td>9</td>\n",
       "      <td>9</td>\n",
       "      <td>9</td>\n",
       "      <td>1</td>\n",
       "      <td>9</td>\n",
       "      <td>9</td>\n",
       "      <td>9</td>\n",
       "      <td>9</td>\n",
       "      <td>...</td>\n",
       "      <td>1</td>\n",
       "      <td>3</td>\n",
       "      <td>16</td>\n",
       "      <td>7</td>\n",
       "      <td>1</td>\n",
       "      <td>1</td>\n",
       "      <td>1</td>\n",
       "      <td>1</td>\n",
       "      <td>2</td>\n",
       "      <td>14</td>\n",
       "    </tr>\n",
       "    <tr>\n",
       "      <th>4</th>\n",
       "      <td>4</td>\n",
       "      <td>9</td>\n",
       "      <td>9</td>\n",
       "      <td>9</td>\n",
       "      <td>9</td>\n",
       "      <td>1</td>\n",
       "      <td>9</td>\n",
       "      <td>9</td>\n",
       "      <td>9</td>\n",
       "      <td>9</td>\n",
       "      <td>...</td>\n",
       "      <td>2</td>\n",
       "      <td>13</td>\n",
       "      <td>16</td>\n",
       "      <td>2</td>\n",
       "      <td>1</td>\n",
       "      <td>1</td>\n",
       "      <td>1</td>\n",
       "      <td>1</td>\n",
       "      <td>1</td>\n",
       "      <td>7</td>\n",
       "    </tr>\n",
       "  </tbody>\n",
       "</table>\n",
       "<p>5 rows × 70 columns</p>\n",
       "</div>"
      ],
      "text/plain": [
       "   boro  uf1_1  uf1_2  uf1_3  uf1_4  uf1_5  uf1_6  uf1_7  uf1_8  uf1_9 ...  \\\n",
       "0     1      9      9      9      9      1      9      9      9      9 ...   \n",
       "1     2      9      9      9      9      1      9      9      9      9 ...   \n",
       "2     3      9      9      9      9      1      9      9      9      9 ...   \n",
       "3     2      9      9      9      9      1      9      9      9      9 ...   \n",
       "4     4      9      9      9      9      1      9      9      9      9 ...   \n",
       "\n",
       "   uf19  rec15  sc26  uf23  rec21  rec62  rec64  rec54  rec53  cd  \n",
       "0     2      3    12     6      1      1      1      2      3   7  \n",
       "1     2      3    12     6      1      1      1      7      9  18  \n",
       "2     1      5    16     9      8      1      1      1      1   5  \n",
       "3     1      3    16     7      1      1      1      1      2  14  \n",
       "4     2     13    16     2      1      1      1      1      1   7  \n",
       "\n",
       "[5 rows x 70 columns]"
      ]
     },
     "execution_count": 19,
     "metadata": {},
     "output_type": "execute_result"
    }
   ],
   "source": [
    "X_train_knn.head()"
   ]
  },
  {
   "cell_type": "markdown",
   "metadata": {},
   "source": [
    "##### Scaling"
   ]
  },
  {
   "cell_type": "markdown",
   "metadata": {},
   "source": [
    "Here, we scale the continuous features to mean 0 and standard deviation 1."
   ]
  },
  {
   "cell_type": "code",
   "execution_count": 20,
   "metadata": {
    "collapsed": false
   },
   "outputs": [],
   "source": [
    "X_train_scaled = X_train_knn.copy()\n",
    "X_test_scaled = X_test_knn.copy()"
   ]
  },
  {
   "cell_type": "code",
   "execution_count": 21,
   "metadata": {
    "collapsed": true,
    "deletable": true,
    "editable": true
   },
   "outputs": [
    {
     "name": "stderr",
     "output_type": "stream",
     "text": [
      "/Users/stephaniedoctor/anaconda/envs/py3k/lib/python3.5/site-packages/sklearn/utils/validation.py:429: DataConversionWarning: Data with input dtype int64 was converted to float64 by StandardScaler.\n",
      "  warnings.warn(msg, _DataConversionWarning)\n",
      "/Users/stephaniedoctor/anaconda/envs/py3k/lib/python3.5/site-packages/sklearn/preprocessing/data.py:586: DeprecationWarning: Passing 1d arrays as data is deprecated in 0.17 and will raise ValueError in 0.19. Reshape your data either using X.reshape(-1, 1) if your data has a single feature or X.reshape(1, -1) if it contains a single sample.\n",
      "  warnings.warn(DEPRECATION_MSG_1D, DeprecationWarning)\n",
      "/Users/stephaniedoctor/anaconda/envs/py3k/lib/python3.5/site-packages/sklearn/preprocessing/data.py:649: DeprecationWarning: Passing 1d arrays as data is deprecated in 0.17 and will raise ValueError in 0.19. Reshape your data either using X.reshape(-1, 1) if your data has a single feature or X.reshape(1, -1) if it contains a single sample.\n",
      "  warnings.warn(DEPRECATION_MSG_1D, DeprecationWarning)\n",
      "/Users/stephaniedoctor/anaconda/envs/py3k/lib/python3.5/site-packages/sklearn/preprocessing/data.py:649: DeprecationWarning: Passing 1d arrays as data is deprecated in 0.17 and will raise ValueError in 0.19. Reshape your data either using X.reshape(-1, 1) if your data has a single feature or X.reshape(1, -1) if it contains a single sample.\n",
      "  warnings.warn(DEPRECATION_MSG_1D, DeprecationWarning)\n",
      "/Users/stephaniedoctor/anaconda/envs/py3k/lib/python3.5/site-packages/sklearn/preprocessing/data.py:586: DeprecationWarning: Passing 1d arrays as data is deprecated in 0.17 and will raise ValueError in 0.19. Reshape your data either using X.reshape(-1, 1) if your data has a single feature or X.reshape(1, -1) if it contains a single sample.\n",
      "  warnings.warn(DEPRECATION_MSG_1D, DeprecationWarning)\n",
      "/Users/stephaniedoctor/anaconda/envs/py3k/lib/python3.5/site-packages/sklearn/preprocessing/data.py:649: DeprecationWarning: Passing 1d arrays as data is deprecated in 0.17 and will raise ValueError in 0.19. Reshape your data either using X.reshape(-1, 1) if your data has a single feature or X.reshape(1, -1) if it contains a single sample.\n",
      "  warnings.warn(DEPRECATION_MSG_1D, DeprecationWarning)\n",
      "/Users/stephaniedoctor/anaconda/envs/py3k/lib/python3.5/site-packages/sklearn/preprocessing/data.py:649: DeprecationWarning: Passing 1d arrays as data is deprecated in 0.17 and will raise ValueError in 0.19. Reshape your data either using X.reshape(-1, 1) if your data has a single feature or X.reshape(1, -1) if it contains a single sample.\n",
      "  warnings.warn(DEPRECATION_MSG_1D, DeprecationWarning)\n",
      "/Users/stephaniedoctor/anaconda/envs/py3k/lib/python3.5/site-packages/sklearn/preprocessing/data.py:586: DeprecationWarning: Passing 1d arrays as data is deprecated in 0.17 and will raise ValueError in 0.19. Reshape your data either using X.reshape(-1, 1) if your data has a single feature or X.reshape(1, -1) if it contains a single sample.\n",
      "  warnings.warn(DEPRECATION_MSG_1D, DeprecationWarning)\n",
      "/Users/stephaniedoctor/anaconda/envs/py3k/lib/python3.5/site-packages/sklearn/preprocessing/data.py:649: DeprecationWarning: Passing 1d arrays as data is deprecated in 0.17 and will raise ValueError in 0.19. Reshape your data either using X.reshape(-1, 1) if your data has a single feature or X.reshape(1, -1) if it contains a single sample.\n",
      "  warnings.warn(DEPRECATION_MSG_1D, DeprecationWarning)\n",
      "/Users/stephaniedoctor/anaconda/envs/py3k/lib/python3.5/site-packages/sklearn/preprocessing/data.py:649: DeprecationWarning: Passing 1d arrays as data is deprecated in 0.17 and will raise ValueError in 0.19. Reshape your data either using X.reshape(-1, 1) if your data has a single feature or X.reshape(1, -1) if it contains a single sample.\n",
      "  warnings.warn(DEPRECATION_MSG_1D, DeprecationWarning)\n"
     ]
    }
   ],
   "source": [
    "for col in continuous_cols:\n",
    "    scaler = StandardScaler()\n",
    "    X_train_scaled[col] = scaler.fit_transform(X_train_knn[col])\n",
    "    X_test_scaled[col] = scaler.transform(X_test_knn[col])"
   ]
  },
  {
   "cell_type": "code",
   "execution_count": 22,
   "metadata": {
    "collapsed": true
   },
   "outputs": [],
   "source": [
    "X_train_scaled = pd.DataFrame(X_train_scaled, columns=X_train.columns)\n",
    "X_test_scaled = pd.DataFrame(X_test_scaled, columns=X_test.columns)"
   ]
  },
  {
   "cell_type": "code",
   "execution_count": 23,
   "metadata": {
    "collapsed": false
   },
   "outputs": [
    {
     "data": {
      "text/html": [
       "<div>\n",
       "<table border=\"1\" class=\"dataframe\">\n",
       "  <thead>\n",
       "    <tr style=\"text-align: right;\">\n",
       "      <th></th>\n",
       "      <th>boro</th>\n",
       "      <th>uf1_1</th>\n",
       "      <th>uf1_2</th>\n",
       "      <th>uf1_3</th>\n",
       "      <th>uf1_4</th>\n",
       "      <th>uf1_5</th>\n",
       "      <th>uf1_6</th>\n",
       "      <th>uf1_7</th>\n",
       "      <th>uf1_8</th>\n",
       "      <th>uf1_9</th>\n",
       "      <th>...</th>\n",
       "      <th>uf19</th>\n",
       "      <th>rec15</th>\n",
       "      <th>sc26</th>\n",
       "      <th>uf23</th>\n",
       "      <th>rec21</th>\n",
       "      <th>rec62</th>\n",
       "      <th>rec64</th>\n",
       "      <th>rec54</th>\n",
       "      <th>rec53</th>\n",
       "      <th>cd</th>\n",
       "    </tr>\n",
       "  </thead>\n",
       "  <tbody>\n",
       "    <tr>\n",
       "      <th>0</th>\n",
       "      <td>1</td>\n",
       "      <td>9</td>\n",
       "      <td>9</td>\n",
       "      <td>9</td>\n",
       "      <td>9</td>\n",
       "      <td>1</td>\n",
       "      <td>9</td>\n",
       "      <td>9</td>\n",
       "      <td>9</td>\n",
       "      <td>9</td>\n",
       "      <td>...</td>\n",
       "      <td>2</td>\n",
       "      <td>3</td>\n",
       "      <td>12</td>\n",
       "      <td>6</td>\n",
       "      <td>1</td>\n",
       "      <td>1</td>\n",
       "      <td>1</td>\n",
       "      <td>2</td>\n",
       "      <td>3</td>\n",
       "      <td>7</td>\n",
       "    </tr>\n",
       "    <tr>\n",
       "      <th>1</th>\n",
       "      <td>2</td>\n",
       "      <td>9</td>\n",
       "      <td>9</td>\n",
       "      <td>9</td>\n",
       "      <td>9</td>\n",
       "      <td>1</td>\n",
       "      <td>9</td>\n",
       "      <td>9</td>\n",
       "      <td>9</td>\n",
       "      <td>9</td>\n",
       "      <td>...</td>\n",
       "      <td>2</td>\n",
       "      <td>3</td>\n",
       "      <td>12</td>\n",
       "      <td>6</td>\n",
       "      <td>1</td>\n",
       "      <td>1</td>\n",
       "      <td>1</td>\n",
       "      <td>7</td>\n",
       "      <td>9</td>\n",
       "      <td>18</td>\n",
       "    </tr>\n",
       "    <tr>\n",
       "      <th>2</th>\n",
       "      <td>3</td>\n",
       "      <td>9</td>\n",
       "      <td>9</td>\n",
       "      <td>9</td>\n",
       "      <td>9</td>\n",
       "      <td>1</td>\n",
       "      <td>9</td>\n",
       "      <td>9</td>\n",
       "      <td>9</td>\n",
       "      <td>9</td>\n",
       "      <td>...</td>\n",
       "      <td>1</td>\n",
       "      <td>5</td>\n",
       "      <td>16</td>\n",
       "      <td>9</td>\n",
       "      <td>8</td>\n",
       "      <td>1</td>\n",
       "      <td>1</td>\n",
       "      <td>1</td>\n",
       "      <td>1</td>\n",
       "      <td>5</td>\n",
       "    </tr>\n",
       "    <tr>\n",
       "      <th>3</th>\n",
       "      <td>2</td>\n",
       "      <td>9</td>\n",
       "      <td>9</td>\n",
       "      <td>9</td>\n",
       "      <td>9</td>\n",
       "      <td>1</td>\n",
       "      <td>9</td>\n",
       "      <td>9</td>\n",
       "      <td>9</td>\n",
       "      <td>9</td>\n",
       "      <td>...</td>\n",
       "      <td>1</td>\n",
       "      <td>3</td>\n",
       "      <td>16</td>\n",
       "      <td>7</td>\n",
       "      <td>1</td>\n",
       "      <td>1</td>\n",
       "      <td>1</td>\n",
       "      <td>1</td>\n",
       "      <td>2</td>\n",
       "      <td>14</td>\n",
       "    </tr>\n",
       "    <tr>\n",
       "      <th>4</th>\n",
       "      <td>4</td>\n",
       "      <td>9</td>\n",
       "      <td>9</td>\n",
       "      <td>9</td>\n",
       "      <td>9</td>\n",
       "      <td>1</td>\n",
       "      <td>9</td>\n",
       "      <td>9</td>\n",
       "      <td>9</td>\n",
       "      <td>9</td>\n",
       "      <td>...</td>\n",
       "      <td>2</td>\n",
       "      <td>13</td>\n",
       "      <td>16</td>\n",
       "      <td>2</td>\n",
       "      <td>1</td>\n",
       "      <td>1</td>\n",
       "      <td>1</td>\n",
       "      <td>1</td>\n",
       "      <td>1</td>\n",
       "      <td>7</td>\n",
       "    </tr>\n",
       "  </tbody>\n",
       "</table>\n",
       "<p>5 rows × 70 columns</p>\n",
       "</div>"
      ],
      "text/plain": [
       "   boro  uf1_1  uf1_2  uf1_3  uf1_4  uf1_5  uf1_6  uf1_7  uf1_8  uf1_9 ...  \\\n",
       "0     1      9      9      9      9      1      9      9      9      9 ...   \n",
       "1     2      9      9      9      9      1      9      9      9      9 ...   \n",
       "2     3      9      9      9      9      1      9      9      9      9 ...   \n",
       "3     2      9      9      9      9      1      9      9      9      9 ...   \n",
       "4     4      9      9      9      9      1      9      9      9      9 ...   \n",
       "\n",
       "   uf19  rec15  sc26  uf23  rec21  rec62  rec64  rec54  rec53  cd  \n",
       "0     2      3    12     6      1      1      1      2      3   7  \n",
       "1     2      3    12     6      1      1      1      7      9  18  \n",
       "2     1      5    16     9      8      1      1      1      1   5  \n",
       "3     1      3    16     7      1      1      1      1      2  14  \n",
       "4     2     13    16     2      1      1      1      1      1   7  \n",
       "\n",
       "[5 rows x 70 columns]"
      ]
     },
     "execution_count": 23,
     "metadata": {},
     "output_type": "execute_result"
    }
   ],
   "source": [
    "X_train_scaled.head()"
   ]
  },
  {
   "cell_type": "markdown",
   "metadata": {},
   "source": [
    "##### One-Hot Encoding"
   ]
  },
  {
   "cell_type": "markdown",
   "metadata": {},
   "source": [
    "Finally, we perform label encoding and then one-hot encoding on the categorical variables."
   ]
  },
  {
   "cell_type": "code",
   "execution_count": 24,
   "metadata": {
    "collapsed": true
   },
   "outputs": [],
   "source": [
    "X_train_le = X_train_scaled.copy()\n",
    "X_test_le = X_test_scaled.copy()"
   ]
  },
  {
   "cell_type": "code",
   "execution_count": 25,
   "metadata": {
    "collapsed": false
   },
   "outputs": [],
   "source": [
    "le = LabelEncoder()\n",
    "for col in X_train.columns:\n",
    "    if col in continuous_cols:\n",
    "        continue\n",
    "    X_train_le[col] = le.fit_transform(X_train_le[col])\n",
    "    X_test_le[col] = le.transform(X_test_le[col])"
   ]
  },
  {
   "cell_type": "code",
   "execution_count": 26,
   "metadata": {
    "collapsed": false
   },
   "outputs": [],
   "source": [
    "cat_mask = [x not in continuous_cols for x in X_train.columns.tolist()]"
   ]
  },
  {
   "cell_type": "code",
   "execution_count": 27,
   "metadata": {
    "collapsed": false
   },
   "outputs": [],
   "source": [
    "onehot = OneHotEncoder(categorical_features=cat_mask)\n",
    "X_train_onehot = onehot.fit_transform(np.array(X_train_le))\n",
    "X_test_onehot = onehot.transform(np.array(X_test_le))"
   ]
  },
  {
   "cell_type": "code",
   "execution_count": 28,
   "metadata": {
    "collapsed": false
   },
   "outputs": [],
   "source": [
    "X_train_onehot = pd.DataFrame(X_train_onehot.toarray())\n",
    "X_test_onehot = pd.DataFrame(X_test_onehot.toarray())"
   ]
  },
  {
   "cell_type": "code",
   "execution_count": 29,
   "metadata": {
    "collapsed": false
   },
   "outputs": [
    {
     "data": {
      "text/html": [
       "<div>\n",
       "<table border=\"1\" class=\"dataframe\">\n",
       "  <thead>\n",
       "    <tr style=\"text-align: right;\">\n",
       "      <th></th>\n",
       "      <th>0</th>\n",
       "      <th>1</th>\n",
       "      <th>2</th>\n",
       "      <th>3</th>\n",
       "      <th>4</th>\n",
       "      <th>5</th>\n",
       "      <th>6</th>\n",
       "      <th>7</th>\n",
       "      <th>8</th>\n",
       "      <th>9</th>\n",
       "      <th>...</th>\n",
       "      <th>281</th>\n",
       "      <th>282</th>\n",
       "      <th>283</th>\n",
       "      <th>284</th>\n",
       "      <th>285</th>\n",
       "      <th>286</th>\n",
       "      <th>287</th>\n",
       "      <th>288</th>\n",
       "      <th>289</th>\n",
       "      <th>290</th>\n",
       "    </tr>\n",
       "  </thead>\n",
       "  <tbody>\n",
       "    <tr>\n",
       "      <th>0</th>\n",
       "      <td>1.0</td>\n",
       "      <td>0.0</td>\n",
       "      <td>0.0</td>\n",
       "      <td>0.0</td>\n",
       "      <td>0.0</td>\n",
       "      <td>0.0</td>\n",
       "      <td>0.0</td>\n",
       "      <td>1.0</td>\n",
       "      <td>0.0</td>\n",
       "      <td>0.0</td>\n",
       "      <td>...</td>\n",
       "      <td>0.0</td>\n",
       "      <td>0.0</td>\n",
       "      <td>0.0</td>\n",
       "      <td>0.0</td>\n",
       "      <td>0.0</td>\n",
       "      <td>0.0</td>\n",
       "      <td>0.0</td>\n",
       "      <td>1.199796</td>\n",
       "      <td>1.475622</td>\n",
       "      <td>1.245331</td>\n",
       "    </tr>\n",
       "    <tr>\n",
       "      <th>1</th>\n",
       "      <td>0.0</td>\n",
       "      <td>1.0</td>\n",
       "      <td>0.0</td>\n",
       "      <td>0.0</td>\n",
       "      <td>0.0</td>\n",
       "      <td>0.0</td>\n",
       "      <td>0.0</td>\n",
       "      <td>1.0</td>\n",
       "      <td>0.0</td>\n",
       "      <td>0.0</td>\n",
       "      <td>...</td>\n",
       "      <td>0.0</td>\n",
       "      <td>0.0</td>\n",
       "      <td>0.0</td>\n",
       "      <td>0.0</td>\n",
       "      <td>0.0</td>\n",
       "      <td>0.0</td>\n",
       "      <td>1.0</td>\n",
       "      <td>0.420751</td>\n",
       "      <td>0.412159</td>\n",
       "      <td>1.245331</td>\n",
       "    </tr>\n",
       "    <tr>\n",
       "      <th>2</th>\n",
       "      <td>0.0</td>\n",
       "      <td>0.0</td>\n",
       "      <td>1.0</td>\n",
       "      <td>0.0</td>\n",
       "      <td>0.0</td>\n",
       "      <td>0.0</td>\n",
       "      <td>0.0</td>\n",
       "      <td>1.0</td>\n",
       "      <td>0.0</td>\n",
       "      <td>0.0</td>\n",
       "      <td>...</td>\n",
       "      <td>0.0</td>\n",
       "      <td>0.0</td>\n",
       "      <td>0.0</td>\n",
       "      <td>0.0</td>\n",
       "      <td>0.0</td>\n",
       "      <td>0.0</td>\n",
       "      <td>0.0</td>\n",
       "      <td>-1.137338</td>\n",
       "      <td>-0.651303</td>\n",
       "      <td>1.245331</td>\n",
       "    </tr>\n",
       "    <tr>\n",
       "      <th>3</th>\n",
       "      <td>0.0</td>\n",
       "      <td>1.0</td>\n",
       "      <td>0.0</td>\n",
       "      <td>0.0</td>\n",
       "      <td>0.0</td>\n",
       "      <td>0.0</td>\n",
       "      <td>0.0</td>\n",
       "      <td>1.0</td>\n",
       "      <td>0.0</td>\n",
       "      <td>0.0</td>\n",
       "      <td>...</td>\n",
       "      <td>0.0</td>\n",
       "      <td>0.0</td>\n",
       "      <td>1.0</td>\n",
       "      <td>0.0</td>\n",
       "      <td>0.0</td>\n",
       "      <td>0.0</td>\n",
       "      <td>0.0</td>\n",
       "      <td>-0.358294</td>\n",
       "      <td>-0.651303</td>\n",
       "      <td>-0.809704</td>\n",
       "    </tr>\n",
       "    <tr>\n",
       "      <th>4</th>\n",
       "      <td>0.0</td>\n",
       "      <td>0.0</td>\n",
       "      <td>0.0</td>\n",
       "      <td>1.0</td>\n",
       "      <td>0.0</td>\n",
       "      <td>0.0</td>\n",
       "      <td>0.0</td>\n",
       "      <td>1.0</td>\n",
       "      <td>0.0</td>\n",
       "      <td>0.0</td>\n",
       "      <td>...</td>\n",
       "      <td>0.0</td>\n",
       "      <td>0.0</td>\n",
       "      <td>0.0</td>\n",
       "      <td>0.0</td>\n",
       "      <td>0.0</td>\n",
       "      <td>0.0</td>\n",
       "      <td>0.0</td>\n",
       "      <td>1.978840</td>\n",
       "      <td>1.475622</td>\n",
       "      <td>1.245331</td>\n",
       "    </tr>\n",
       "  </tbody>\n",
       "</table>\n",
       "<p>5 rows × 291 columns</p>\n",
       "</div>"
      ],
      "text/plain": [
       "   0    1    2    3    4    5    6    7    8    9      ...     281  282  283  \\\n",
       "0  1.0  0.0  0.0  0.0  0.0  0.0  0.0  1.0  0.0  0.0    ...     0.0  0.0  0.0   \n",
       "1  0.0  1.0  0.0  0.0  0.0  0.0  0.0  1.0  0.0  0.0    ...     0.0  0.0  0.0   \n",
       "2  0.0  0.0  1.0  0.0  0.0  0.0  0.0  1.0  0.0  0.0    ...     0.0  0.0  0.0   \n",
       "3  0.0  1.0  0.0  0.0  0.0  0.0  0.0  1.0  0.0  0.0    ...     0.0  0.0  1.0   \n",
       "4  0.0  0.0  0.0  1.0  0.0  0.0  0.0  1.0  0.0  0.0    ...     0.0  0.0  0.0   \n",
       "\n",
       "   284  285  286  287       288       289       290  \n",
       "0  0.0  0.0  0.0  0.0  1.199796  1.475622  1.245331  \n",
       "1  0.0  0.0  0.0  1.0  0.420751  0.412159  1.245331  \n",
       "2  0.0  0.0  0.0  0.0 -1.137338 -0.651303  1.245331  \n",
       "3  0.0  0.0  0.0  0.0 -0.358294 -0.651303 -0.809704  \n",
       "4  0.0  0.0  0.0  0.0  1.978840  1.475622  1.245331  \n",
       "\n",
       "[5 rows x 291 columns]"
      ]
     },
     "execution_count": 29,
     "metadata": {},
     "output_type": "execute_result"
    }
   ],
   "source": [
    "X_train_onehot.head()"
   ]
  },
  {
   "cell_type": "markdown",
   "metadata": {},
   "source": [
    "### Initial Models"
   ]
  },
  {
   "cell_type": "markdown",
   "metadata": {},
   "source": [
    "Now we are ready to try regression algorithms to predict rent based on the features we have prepared. First, we try Linear Regression, Ridge Regression, and LASSO without tuning any hyperparameters."
   ]
  },
  {
   "cell_type": "markdown",
   "metadata": {},
   "source": [
    "##### Linear Regression"
   ]
  },
  {
   "cell_type": "code",
   "execution_count": 30,
   "metadata": {
    "collapsed": false
   },
   "outputs": [
    {
     "data": {
      "text/plain": [
       "LinearRegression(copy_X=True, fit_intercept=True, n_jobs=1, normalize=False)"
      ]
     },
     "execution_count": 30,
     "metadata": {},
     "output_type": "execute_result"
    }
   ],
   "source": [
    "linear = LinearRegression()\n",
    "linear.fit(X_train_onehot, y_train)"
   ]
  },
  {
   "cell_type": "code",
   "execution_count": 31,
   "metadata": {
    "collapsed": false,
    "scrolled": false
   },
   "outputs": [
    {
     "name": "stdout",
     "output_type": "stream",
     "text": [
      "Training score: 0.48190351715320157\n",
      "Test score: 0.42978824029328594\n"
     ]
    }
   ],
   "source": [
    "print('Training score: {}'.format(linear.score(X_train_onehot, y_train)))\n",
    "print('Test score: {}'.format(linear.score(X_test_onehot, y_test)))"
   ]
  },
  {
   "cell_type": "markdown",
   "metadata": {},
   "source": [
    "##### Ridge Regression"
   ]
  },
  {
   "cell_type": "code",
   "execution_count": 32,
   "metadata": {
    "collapsed": false
   },
   "outputs": [
    {
     "data": {
      "text/plain": [
       "Ridge(alpha=1.0, copy_X=True, fit_intercept=True, max_iter=None,\n",
       "   normalize=False, random_state=None, solver='auto', tol=0.001)"
      ]
     },
     "execution_count": 32,
     "metadata": {},
     "output_type": "execute_result"
    }
   ],
   "source": [
    "ridge = Ridge()\n",
    "ridge.fit(X_train_onehot, y_train)"
   ]
  },
  {
   "cell_type": "code",
   "execution_count": 33,
   "metadata": {
    "collapsed": false,
    "scrolled": true
   },
   "outputs": [
    {
     "name": "stdout",
     "output_type": "stream",
     "text": [
      "Training score: 0.480449250793068\n",
      "Test score: 0.4308351596791935\n"
     ]
    }
   ],
   "source": [
    "print('Training score: {}'.format(ridge.score(X_train_onehot, y_train)))\n",
    "print('Test score: {}'.format(ridge.score(X_test_onehot, y_test)))"
   ]
  },
  {
   "cell_type": "markdown",
   "metadata": {},
   "source": [
    "##### LASSO"
   ]
  },
  {
   "cell_type": "code",
   "execution_count": 34,
   "metadata": {
    "collapsed": false
   },
   "outputs": [
    {
     "data": {
      "text/plain": [
       "Lasso(alpha=1.0, copy_X=True, fit_intercept=True, max_iter=1000,\n",
       "   normalize=False, positive=False, precompute=False, random_state=None,\n",
       "   selection='cyclic', tol=0.0001, warm_start=False)"
      ]
     },
     "execution_count": 34,
     "metadata": {},
     "output_type": "execute_result"
    }
   ],
   "source": [
    "lasso = Lasso()\n",
    "lasso.fit(X_train_onehot, y_train)"
   ]
  },
  {
   "cell_type": "code",
   "execution_count": 35,
   "metadata": {
    "collapsed": false,
    "scrolled": true
   },
   "outputs": [
    {
     "name": "stdout",
     "output_type": "stream",
     "text": [
      "Training score: 0.47335986261889595\n",
      "Test score: 0.43245229493341647\n"
     ]
    }
   ],
   "source": [
    "print('Training score: {}'.format(lasso.score(X_train_onehot, y_train)))\n",
    "print('Test score: {}'.format(lasso.score(X_test_onehot, y_test)))"
   ]
  },
  {
   "cell_type": "markdown",
   "metadata": {},
   "source": [
    "Among initial models, LASSO scores best, with Ridge and Linear Regression close behind."
   ]
  },
  {
   "cell_type": "markdown",
   "metadata": {},
   "source": [
    "### Models with Grid Search"
   ]
  },
  {
   "cell_type": "markdown",
   "metadata": {},
   "source": [
    "To try to improve the Ridge and LASSO models, we grid-search their alpha parameters."
   ]
  },
  {
   "cell_type": "markdown",
   "metadata": {},
   "source": [
    "##### Ridge Regression"
   ]
  },
  {
   "cell_type": "code",
   "execution_count": 36,
   "metadata": {
    "collapsed": false,
    "deletable": true,
    "editable": true
   },
   "outputs": [
    {
     "data": {
      "text/plain": [
       "RidgeCV(alphas=[0.0001, 0.001, 0.01, 0.1, 1.0, 10], cv=None,\n",
       "    fit_intercept=True, gcv_mode=None, normalize=False, scoring=None,\n",
       "    store_cv_values=False)"
      ]
     },
     "execution_count": 36,
     "metadata": {},
     "output_type": "execute_result"
    }
   ],
   "source": [
    "grid_ridge = RidgeCV(alphas=[0.0001, 0.001, 0.01, 0.1, 1.0, 10])\n",
    "grid_ridge.fit(X_train_onehot,y_train)"
   ]
  },
  {
   "cell_type": "code",
   "execution_count": 37,
   "metadata": {
    "collapsed": false,
    "scrolled": true
   },
   "outputs": [
    {
     "name": "stdout",
     "output_type": "stream",
     "text": [
      "Alpha: 0.01\n",
      "Training score: 0.4824768527513389\n",
      "Test score: 0.43211259226371357\n"
     ]
    }
   ],
   "source": [
    "print('Alpha: {}'.format(grid_ridge.alpha_))\n",
    "print('Training score: {}'.format(grid_ridge.score(X_train_onehot, y_train)))\n",
    "print('Test score: {}'.format(grid_ridge.score(X_test_onehot, y_test)))"
   ]
  },
  {
   "cell_type": "markdown",
   "metadata": {},
   "source": [
    "##### LASSO"
   ]
  },
  {
   "cell_type": "code",
   "execution_count": 38,
   "metadata": {
    "collapsed": false
   },
   "outputs": [
    {
     "data": {
      "text/plain": [
       "LassoCV(alphas=None, copy_X=True, cv=10, eps=1e-05, fit_intercept=True,\n",
       "    max_iter=1000000.0, n_alphas=6, n_jobs=1, normalize=False,\n",
       "    positive=False, precompute='auto', random_state=None,\n",
       "    selection='cyclic', tol=0.0001, verbose=False)"
      ]
     },
     "execution_count": 38,
     "metadata": {},
     "output_type": "execute_result"
    }
   ],
   "source": [
    "grid_lasso = LassoCV(eps=1e-5, n_alphas=6, max_iter=1e6, cv=10)\n",
    "grid_lasso.fit(X_train_onehot, y_train)"
   ]
  },
  {
   "cell_type": "code",
   "execution_count": 39,
   "metadata": {
    "collapsed": false
   },
   "outputs": [
    {
     "name": "stdout",
     "output_type": "stream",
     "text": [
      "Alpha: 0.015063808145643466\n",
      "Training score: 0.4824579905601829\n",
      "Test score: 0.43238766472111956\n"
     ]
    }
   ],
   "source": [
    "print('Alpha: {}'.format(grid_lasso.alpha_))\n",
    "print('Training score: {}'.format(grid_lasso.score(X_train_onehot, y_train)))\n",
    "print('Test score: {}'.format(grid_lasso.score(X_test_onehot, y_test)))"
   ]
  },
  {
   "cell_type": "markdown",
   "metadata": {},
   "source": [
    "After grid-searching, the test score of Ridge improved slightly. LASSO's score stayed about the same but remains the best of the three models, at about 43%."
   ]
  },
  {
   "cell_type": "markdown",
   "metadata": {},
   "source": [
    "### Plotting the Models' Results"
   ]
  },
  {
   "cell_type": "code",
   "execution_count": 41,
   "metadata": {
    "collapsed": false
   },
   "outputs": [],
   "source": [
    "linear_pred = linear.predict(X_test_onehot)\n",
    "ridge_pred = grid_ridge.predict(X_test_onehot)\n",
    "lasso_pred = grid_lasso.predict(X_test_onehot)"
   ]
  },
  {
   "cell_type": "code",
   "execution_count": 43,
   "metadata": {
    "collapsed": false
   },
   "outputs": [
    {
     "name": "stderr",
     "output_type": "stream",
     "text": [
      "/Users/stephaniedoctor/anaconda/envs/py3k/lib/python3.5/site-packages/ipykernel/__main__.py:5: FutureWarning: sort(columns=....) is deprecated, use sort_values(by=.....)\n"
     ]
    }
   ],
   "source": [
    "predictions = pd.DataFrame({'y': y_test,\n",
    "                           'linear': linear_pred,\n",
    "                           'ridge': ridge_pred,\n",
    "                           'lasso': lasso_pred})\n",
    "predictions_sorted = predictions.sort(columns='y')"
   ]
  },
  {
   "cell_type": "code",
   "execution_count": 60,
   "metadata": {
    "collapsed": false
   },
   "outputs": [
    {
     "data": {
      "image/png": "[encoded data removed]",
      "text/plain": [
       "<matplotlib.figure.Figure at 0x11bf9a2e8>"
      ]
     },
     "metadata": {},
     "output_type": "display_data"
    }
   ],
   "source": [
    "fig, ax = plt.subplots(3, sharey=True, figsize=(10,10))\n",
    "\n",
    "ax[0].plot(range(len(predictions)), predictions_sorted['linear'], c='green', alpha=0.5)\n",
    "ax[1].plot(range(len(predictions)), predictions_sorted['ridge'], c='orange', alpha=0.5)\n",
    "ax[2].plot(range(len(predictions)), predictions_sorted['lasso'], c='blue', alpha=0.5)\n",
    "\n",
    "for k in range(3):\n",
    "    ax[k].plot(range(len(predictions)), predictions_sorted['y'], c='black')\n",
    "    ax[k].set_ylabel('Rent')\n",
    "    ax[k].legend()\n",
    "    ax[k].set_xticks([])\n",
    "    \n",
    "plt.show()"
   ]
  },
  {
   "cell_type": "markdown",
   "metadata": {},
   "source": [
    "Ultimately, all three models had very similar results, even down to specific observations. Additionally, all three models performed best in the mid-range rent values, failed completely to capture the very high rent values, and underperformed on the very low rents."
   ]
  }
 ],
 "metadata": {
  "anaconda-cloud": {},
  "kernelspec": {
   "display_name": "Python [conda env:py3k]",
   "language": "python",
   "name": "conda-env-py3k-py"
  },
  "language_info": {
   "codemirror_mode": {
    "name": "ipython",
    "version": 3
   },
   "file_extension": ".py",
   "mimetype": "text/x-python",
   "name": "python",
   "nbconvert_exporter": "python",
   "pygments_lexer": "ipython3",
   "version": "3.5.2"
  }
 },
 "nbformat": 4,
 "nbformat_minor": 1
}
